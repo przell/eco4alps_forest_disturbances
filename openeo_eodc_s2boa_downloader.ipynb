{
 "cells": [
  {
   "cell_type": "code",
   "execution_count": 35,
   "id": "e074af89-7ad1-4440-9982-1057c0a93f95",
   "metadata": {},
   "outputs": [
    {
     "name": "stdout",
     "output_type": "stream",
     "text": [
      "/home/pzellner@eurac.edu/.conda/envs/eurac_env/bin/python\n"
     ]
    }
   ],
   "source": [
    "# definitions up front\n",
    "!which python\n",
    "#pip install openeo\n",
    "import openeo"
   ]
  },
  {
   "cell_type": "code",
   "execution_count": 36,
   "id": "baf4311d-5dba-4aae-b01b-74eb07c742c2",
   "metadata": {},
   "outputs": [
    {
     "data": {
      "text/plain": [
       "<Connection to 'https://openeo.eodc.eu/v1.0' with BearerAuth>"
      ]
     },
     "execution_count": 36,
     "metadata": {},
     "output_type": "execute_result"
    }
   ],
   "source": [
    "# connect to backend\n",
    "eodc_conn = openeo.connect(\"https://openeo.eodc.eu/v1.0\").authenticate_basic(\"openeo-user\", \"openeo-56XA!\")\n",
    "eodc_conn"
   ]
  },
  {
   "cell_type": "code",
   "execution_count": 24,
   "id": "32941599-77df-43d6-903a-65023d93f505",
   "metadata": {},
   "outputs": [
    {
     "data": {
      "text/html": [
       "\n",
       "    <script>\n",
       "    if (!window.customElements || !window.customElements.get('openeo-collections')) {\n",
       "        var el = document.createElement('script');\n",
       "        el.src = \"https://cdn.jsdelivr.net/npm/@openeo/vue-components@2/assets/openeo.min.js\";\n",
       "        document.head.appendChild(el);\n",
       "    }\n",
       "    </script>\n",
       "    <openeo-collections>\n",
       "        <script type=\"application/json\">{\"collections\": [{\"description\": \"Sentinel-2 is a multispectral, high-resolution, optical imaging mission, developed by the European Space Agency (ESA) in the frame of the Copernicus program of the European Commission.\", \"extent\": {\"spatial\": {\"bbox\": [[-180.0, -90.0, 180.0, 90.0]]}, \"temporal\": {\"interval\": [[null, null]]}}, \"id\": \"s2b_prd_msil1c\", \"license\": \"no conditions apply\", \"links\": [{\"href\": \"https://openeo.eodc.eu/v1.0/collections/s2b_prd_msil1c\", \"rel\": \"self\"}, {\"href\": \"parent\", \"rel\": \"https://openeo.eodc.eu/v1.0/collections\"}, {\"href\": \"root\", \"rel\": \"https://openeo.eodc.eu/v1.0/collections\"}], \"stac_extensions\": [\"datacube\", \"eo\"], \"stac_version\": \"0.9.0\"}, {\"description\": \"Sentinel-2 is a multispectral, high-resolution, optical imaging mission, developed by the European Space Agency (ESA) in the frame of the Copernicus program of the European Commission.\", \"extent\": {\"spatial\": {\"bbox\": [[-180.0, -90.0, 180.0, 90.0]]}, \"temporal\": {\"interval\": [[null, null]]}}, \"id\": \"s2a_prd_msil1c\", \"license\": \"no conditions apply\", \"links\": [{\"href\": \"https://openeo.eodc.eu/v1.0/collections/s2a_prd_msil1c\", \"rel\": \"self\"}, {\"href\": \"parent\", \"rel\": \"https://openeo.eodc.eu/v1.0/collections\"}, {\"href\": \"root\", \"rel\": \"https://openeo.eodc.eu/v1.0/collections\"}], \"stac_extensions\": [\"datacube\", \"eo\"], \"stac_version\": \"0.9.0\"}, {\"description\": \"Sentinel-1 is an imaging radar mission providing continuous all-weather, day-and-night imagery at C-band. The Sentinel-1 constellation provides high reliability, improved revisit time, geographical coverage and rapid data dissemination to support operational applications in the priority areas of marine monitoring, land monitoring and emergency services.\", \"extent\": {\"spatial\": {\"bbox\": [[-180.0, -90.0, 180.0, 90.0]]}, \"temporal\": {\"interval\": [[null, null]]}}, \"id\": \"s1a_csar_grdh_iw\", \"license\": \"no conditions apply\", \"links\": [{\"href\": \"https://openeo.eodc.eu/v1.0/collections/s1a_csar_grdh_iw\", \"rel\": \"self\"}, {\"href\": \"parent\", \"rel\": \"https://openeo.eodc.eu/v1.0/collections\"}, {\"href\": \"root\", \"rel\": \"https://openeo.eodc.eu/v1.0/collections\"}], \"stac_extensions\": [\"datacube\", \"sar\"], \"stac_version\": \"0.9.0\"}, {\"description\": \"Sentinel-1 is an imaging radar mission providing continuous all-weather, day-and-night imagery at C-band. The Sentinel-1 constellation provides high reliability, improved revisit time, geographical coverage and rapid data dissemination to support operational applications in the priority areas of marine monitoring, land monitoring and emergency services.\", \"extent\": {\"spatial\": {\"bbox\": [[-180.0, -90.0, 180.0, 90.0]]}, \"temporal\": {\"interval\": [[null, null]]}}, \"id\": \"s1b_csar_grdh_iw\", \"license\": \"no conditions apply\", \"links\": [{\"href\": \"https://openeo.eodc.eu/v1.0/collections/s1b_csar_grdh_iw\", \"rel\": \"self\"}, {\"href\": \"parent\", \"rel\": \"https://openeo.eodc.eu/v1.0/collections\"}, {\"href\": \"root\", \"rel\": \"https://openeo.eodc.eu/v1.0/collections\"}], \"stac_extensions\": [\"datacube\", \"sar\"], \"stac_version\": \"0.9.0\"}, {\"description\": \"Sentinel-3 is an European Earth Observation satellite mission developed to support GMES ocean, land, atmospheric, emergency, security and cryospheric applications.\", \"extent\": {\"spatial\": {\"bbox\": [[-180.0, -90.0, 180.0, 90.0]]}, \"temporal\": {\"interval\": [[null, null]]}}, \"id\": \"s3a_ol_1_efr\", \"license\": \"no conditions apply\", \"links\": [{\"href\": \"https://openeo.eodc.eu/v1.0/collections/s3a_ol_1_efr\", \"rel\": \"self\"}, {\"href\": \"parent\", \"rel\": \"https://openeo.eodc.eu/v1.0/collections\"}, {\"href\": \"root\", \"rel\": \"https://openeo.eodc.eu/v1.0/collections\"}], \"stac_extensions\": [\"datacube\"], \"stac_version\": \"0.9.0\"}, {\"description\": \"Preprocessed analysis-read-data (ARD) from Landsat-8\", \"extent\": {\"spatial\": {\"bbox\": [[6.022720992309466, 42.50120437013096, 18.324913302352606, 48.31266918320008]]}, \"temporal\": {\"interval\": [[\"2015-01-04T12:00:00+00:00\", \"2019-12-26T12:00:00+00:00\"]]}}, \"id\": \"boa_landsat_8\", \"links\": [{\"href\": \"http://doi.org/10.3390/rs11091124\", \"rel\": \"about\"}, {\"href\": \"http://doi.org/10.1109/lgrs.2015.2390673\", \"rel\": \"cloud\"}, {\"href\": \"https://doi.pangaea.de/10.1594/PANGAEA.893109\", \"rel\": \"related\"}, {\"href\": \"http://doi.org/10.1594/PANGAEA.893109\", \"rel\": \"water-vapor\"}, {\"href\": \"http://doi.org/10.1109/lgrs.2015.2390673\", \"rel\": \"cloud-shadow\"}, {\"href\": \"https://ceos.org/ard/files/PFS/SR/v5.0/CARD4L_Product_Family_Specification_Surface_Reflectance-v5.0.pdf\", \"rel\": \"card4l-document\", \"type\": \"application/pdf\"}, {\"href\": \"https://spacedata.copernicus.eu/web/cscda/dataset-details?articleId=394198\", \"rel\": \"elevation-model\", \"title\": \"Copernicus DEM 30m\"}, {\"href\": \"http://doi.org/10.3390/rs11030257\", \"rel\": \"atmospheric-scattering\"}, {\"href\": \"https://openeo.eodc.eu/v1.0/collections/boa_landsat_8\", \"rel\": \"self\"}, {\"href\": \"parent\", \"rel\": \"https://openeo.eodc.eu/v1.0/collections\"}, {\"href\": \"root\", \"rel\": \"https://openeo.eodc.eu/v1.0/collections\"}, {\"href\": \"https://openeo.eodc.eu/v1.0/collections/boa_landsat_8/items\", \"rel\": \"items\"}], \"stac_version\": \"1.0.0-beta\"}, {\"description\": \"Preprocessed analysis-read-data (ARD) from Sentinel-2\", \"extent\": {\"spatial\": {\"bbox\": [[8.896022536230403, 44.051614395910626, 14.464866948944257, 47.73722929134869]]}, \"temporal\": {\"interval\": [[\"2016-01-13T12:00:00+00:00\", \"2020-12-29T12:00:00+00:00\"]]}}, \"id\": \"boa_sentinel_2\", \"links\": [{\"href\": \"http://doi.org/10.3390/rs11091124\", \"rel\": \"about\"}, {\"href\": \"http://doi.org/10.1016/j.rse.2018.04.046\", \"rel\": \"cloud\"}, {\"href\": \"https://doi.org/10.3390/rs13010137\", \"rel\": \"snow-ice\"}, {\"href\": \"https://doi.org/10.3390/rs13010137\", \"rel\": \"land-water\"}, {\"href\": \"http://doi.org/10.3390/rs10020352\", \"rel\": \"water-vapor\"}, {\"href\": \"https://doi.org/10.3390/rs13010137\", \"rel\": \"cloud-shadow\"}, {\"href\": \"https://ceos.org/ard/files/PFS/SR/v5.0/CARD4L_Product_Family_Specification_Surface_Reflectance-v5.0.pdf\", \"rel\": \"card4l-document\", \"type\": \"application/pdf\"}, {\"href\": \"https://spacedata.copernicus.eu/web/cscda/dataset-details?articleId=394198\", \"rel\": \"elevation-model\", \"title\": \"Copernicus DEM 30m\"}, {\"href\": \"http://doi.org/10.3390/rs10020352\", \"rel\": \"atmospheric-scattering\"}, {\"href\": \"https://openeo.eodc.eu/v1.0/collections/boa_sentinel_2\", \"rel\": \"self\"}, {\"href\": \"parent\", \"rel\": \"https://openeo.eodc.eu/v1.0/collections\"}, {\"href\": \"root\", \"rel\": \"https://openeo.eodc.eu/v1.0/collections\"}, {\"href\": \"https://openeo.eodc.eu/v1.0/collections/boa_sentinel_2/items\", \"rel\": \"items\"}], \"stac_version\": \"1.0.0-beta\"}, {\"description\": \"Backscatter returned to the satellites antenna from a unit area on ground, calibrated, georeferenced, geolocation corrected, thermal and border-noise removed.\", \"extent\": {\"spatial\": {\"bbox\": [[8.628499555921122, 44.62215188268141, 13.365939505111038, 47.59280260389223]]}, \"temporal\": {\"interval\": [[\"2016-01-12T17:06:27\", \"2020-12-28T17:07:32\"]]}}, \"id\": \"gamma0_sentinel_1_dv\", \"links\": [{\"href\": \"https://ceos.org/ard/files/PFS/SR/v5.0/CARD4L_Product_Family_Specification_Surface_Reflectance-v5.0.pdf\", \"rel\": \"card4l-document\", \"type\": \"application/pdf\"}, {\"href\": \"https://sentinel.esa.int/documents/247904/2142675/Sentinel-1-masking-no-value-pixels-grd-products-note\", \"rel\": \"noise-removale\"}, {\"href\": \"https://step.esa.int/main/doc/\", \"rel\": \"noise-removal\"}, {\"href\": \"http://step.esa.int/docs/tutorials/S1TBX%20SAR%20Basics%20Tutorial.pdf\", \"rel\": \"radiometric-terrain-correction\"}, {\"href\": \"https://openeo.eodc.eu/v1.0/collections/gamma0_sentinel_1_dv\", \"rel\": \"self\"}, {\"href\": \"parent\", \"rel\": \"https://openeo.eodc.eu/v1.0/collections\"}, {\"href\": \"root\", \"rel\": \"https://openeo.eodc.eu/v1.0/collections\"}, {\"href\": \"https://openeo.eodc.eu/v1.0/collections/gamma0_sentinel_1_dv/items\", \"rel\": \"items\"}], \"stac_version\": \"1.0.0-beta\"}]}</script>\n",
       "    </openeo-collections>\n",
       "    "
      ],
      "text/plain": [
       "[{'description': 'Sentinel-2 is a multispectral, high-resolution, optical imaging mission, developed by the European Space Agency (ESA) in the frame of the Copernicus program of the European Commission.',\n",
       "  'extent': {'spatial': {'bbox': [[-180.0, -90.0, 180.0, 90.0]]},\n",
       "   'temporal': {'interval': [[None, None]]}},\n",
       "  'id': 's2b_prd_msil1c',\n",
       "  'license': 'no conditions apply',\n",
       "  'links': [{'href': 'https://openeo.eodc.eu/v1.0/collections/s2b_prd_msil1c',\n",
       "    'rel': 'self'},\n",
       "   {'href': 'parent', 'rel': 'https://openeo.eodc.eu/v1.0/collections'},\n",
       "   {'href': 'root', 'rel': 'https://openeo.eodc.eu/v1.0/collections'}],\n",
       "  'stac_extensions': ['datacube', 'eo'],\n",
       "  'stac_version': '0.9.0'},\n",
       " {'description': 'Sentinel-2 is a multispectral, high-resolution, optical imaging mission, developed by the European Space Agency (ESA) in the frame of the Copernicus program of the European Commission.',\n",
       "  'extent': {'spatial': {'bbox': [[-180.0, -90.0, 180.0, 90.0]]},\n",
       "   'temporal': {'interval': [[None, None]]}},\n",
       "  'id': 's2a_prd_msil1c',\n",
       "  'license': 'no conditions apply',\n",
       "  'links': [{'href': 'https://openeo.eodc.eu/v1.0/collections/s2a_prd_msil1c',\n",
       "    'rel': 'self'},\n",
       "   {'href': 'parent', 'rel': 'https://openeo.eodc.eu/v1.0/collections'},\n",
       "   {'href': 'root', 'rel': 'https://openeo.eodc.eu/v1.0/collections'}],\n",
       "  'stac_extensions': ['datacube', 'eo'],\n",
       "  'stac_version': '0.9.0'},\n",
       " {'description': 'Sentinel-1 is an imaging radar mission providing continuous all-weather, day-and-night imagery at C-band. The Sentinel-1 constellation provides high reliability, improved revisit time, geographical coverage and rapid data dissemination to support operational applications in the priority areas of marine monitoring, land monitoring and emergency services.',\n",
       "  'extent': {'spatial': {'bbox': [[-180.0, -90.0, 180.0, 90.0]]},\n",
       "   'temporal': {'interval': [[None, None]]}},\n",
       "  'id': 's1a_csar_grdh_iw',\n",
       "  'license': 'no conditions apply',\n",
       "  'links': [{'href': 'https://openeo.eodc.eu/v1.0/collections/s1a_csar_grdh_iw',\n",
       "    'rel': 'self'},\n",
       "   {'href': 'parent', 'rel': 'https://openeo.eodc.eu/v1.0/collections'},\n",
       "   {'href': 'root', 'rel': 'https://openeo.eodc.eu/v1.0/collections'}],\n",
       "  'stac_extensions': ['datacube', 'sar'],\n",
       "  'stac_version': '0.9.0'},\n",
       " {'description': 'Sentinel-1 is an imaging radar mission providing continuous all-weather, day-and-night imagery at C-band. The Sentinel-1 constellation provides high reliability, improved revisit time, geographical coverage and rapid data dissemination to support operational applications in the priority areas of marine monitoring, land monitoring and emergency services.',\n",
       "  'extent': {'spatial': {'bbox': [[-180.0, -90.0, 180.0, 90.0]]},\n",
       "   'temporal': {'interval': [[None, None]]}},\n",
       "  'id': 's1b_csar_grdh_iw',\n",
       "  'license': 'no conditions apply',\n",
       "  'links': [{'href': 'https://openeo.eodc.eu/v1.0/collections/s1b_csar_grdh_iw',\n",
       "    'rel': 'self'},\n",
       "   {'href': 'parent', 'rel': 'https://openeo.eodc.eu/v1.0/collections'},\n",
       "   {'href': 'root', 'rel': 'https://openeo.eodc.eu/v1.0/collections'}],\n",
       "  'stac_extensions': ['datacube', 'sar'],\n",
       "  'stac_version': '0.9.0'},\n",
       " {'description': 'Sentinel-3 is an European Earth Observation satellite mission developed to support GMES ocean, land, atmospheric, emergency, security and cryospheric applications.',\n",
       "  'extent': {'spatial': {'bbox': [[-180.0, -90.0, 180.0, 90.0]]},\n",
       "   'temporal': {'interval': [[None, None]]}},\n",
       "  'id': 's3a_ol_1_efr',\n",
       "  'license': 'no conditions apply',\n",
       "  'links': [{'href': 'https://openeo.eodc.eu/v1.0/collections/s3a_ol_1_efr',\n",
       "    'rel': 'self'},\n",
       "   {'href': 'parent', 'rel': 'https://openeo.eodc.eu/v1.0/collections'},\n",
       "   {'href': 'root', 'rel': 'https://openeo.eodc.eu/v1.0/collections'}],\n",
       "  'stac_extensions': ['datacube'],\n",
       "  'stac_version': '0.9.0'},\n",
       " {'description': 'Preprocessed analysis-read-data (ARD) from Landsat-8',\n",
       "  'extent': {'spatial': {'bbox': [[6.022720992309466,\n",
       "      42.50120437013096,\n",
       "      18.324913302352606,\n",
       "      48.31266918320008]]},\n",
       "   'temporal': {'interval': [['2015-01-04T12:00:00+00:00',\n",
       "      '2019-12-26T12:00:00+00:00']]}},\n",
       "  'id': 'boa_landsat_8',\n",
       "  'links': [{'href': 'http://doi.org/10.3390/rs11091124', 'rel': 'about'},\n",
       "   {'href': 'http://doi.org/10.1109/lgrs.2015.2390673', 'rel': 'cloud'},\n",
       "   {'href': 'https://doi.pangaea.de/10.1594/PANGAEA.893109', 'rel': 'related'},\n",
       "   {'href': 'http://doi.org/10.1594/PANGAEA.893109', 'rel': 'water-vapor'},\n",
       "   {'href': 'http://doi.org/10.1109/lgrs.2015.2390673', 'rel': 'cloud-shadow'},\n",
       "   {'href': 'https://ceos.org/ard/files/PFS/SR/v5.0/CARD4L_Product_Family_Specification_Surface_Reflectance-v5.0.pdf',\n",
       "    'rel': 'card4l-document',\n",
       "    'type': 'application/pdf'},\n",
       "   {'href': 'https://spacedata.copernicus.eu/web/cscda/dataset-details?articleId=394198',\n",
       "    'rel': 'elevation-model',\n",
       "    'title': 'Copernicus DEM 30m'},\n",
       "   {'href': 'http://doi.org/10.3390/rs11030257',\n",
       "    'rel': 'atmospheric-scattering'},\n",
       "   {'href': 'https://openeo.eodc.eu/v1.0/collections/boa_landsat_8',\n",
       "    'rel': 'self'},\n",
       "   {'href': 'parent', 'rel': 'https://openeo.eodc.eu/v1.0/collections'},\n",
       "   {'href': 'root', 'rel': 'https://openeo.eodc.eu/v1.0/collections'},\n",
       "   {'href': 'https://openeo.eodc.eu/v1.0/collections/boa_landsat_8/items',\n",
       "    'rel': 'items'}],\n",
       "  'stac_version': '1.0.0-beta'},\n",
       " {'description': 'Preprocessed analysis-read-data (ARD) from Sentinel-2',\n",
       "  'extent': {'spatial': {'bbox': [[8.896022536230403,\n",
       "      44.051614395910626,\n",
       "      14.464866948944257,\n",
       "      47.73722929134869]]},\n",
       "   'temporal': {'interval': [['2016-01-13T12:00:00+00:00',\n",
       "      '2020-12-29T12:00:00+00:00']]}},\n",
       "  'id': 'boa_sentinel_2',\n",
       "  'links': [{'href': 'http://doi.org/10.3390/rs11091124', 'rel': 'about'},\n",
       "   {'href': 'http://doi.org/10.1016/j.rse.2018.04.046', 'rel': 'cloud'},\n",
       "   {'href': 'https://doi.org/10.3390/rs13010137', 'rel': 'snow-ice'},\n",
       "   {'href': 'https://doi.org/10.3390/rs13010137', 'rel': 'land-water'},\n",
       "   {'href': 'http://doi.org/10.3390/rs10020352', 'rel': 'water-vapor'},\n",
       "   {'href': 'https://doi.org/10.3390/rs13010137', 'rel': 'cloud-shadow'},\n",
       "   {'href': 'https://ceos.org/ard/files/PFS/SR/v5.0/CARD4L_Product_Family_Specification_Surface_Reflectance-v5.0.pdf',\n",
       "    'rel': 'card4l-document',\n",
       "    'type': 'application/pdf'},\n",
       "   {'href': 'https://spacedata.copernicus.eu/web/cscda/dataset-details?articleId=394198',\n",
       "    'rel': 'elevation-model',\n",
       "    'title': 'Copernicus DEM 30m'},\n",
       "   {'href': 'http://doi.org/10.3390/rs10020352',\n",
       "    'rel': 'atmospheric-scattering'},\n",
       "   {'href': 'https://openeo.eodc.eu/v1.0/collections/boa_sentinel_2',\n",
       "    'rel': 'self'},\n",
       "   {'href': 'parent', 'rel': 'https://openeo.eodc.eu/v1.0/collections'},\n",
       "   {'href': 'root', 'rel': 'https://openeo.eodc.eu/v1.0/collections'},\n",
       "   {'href': 'https://openeo.eodc.eu/v1.0/collections/boa_sentinel_2/items',\n",
       "    'rel': 'items'}],\n",
       "  'stac_version': '1.0.0-beta'},\n",
       " {'description': 'Backscatter returned to the satellites antenna from a unit area on ground, calibrated, georeferenced, geolocation corrected, thermal and border-noise removed.',\n",
       "  'extent': {'spatial': {'bbox': [[8.628499555921122,\n",
       "      44.62215188268141,\n",
       "      13.365939505111038,\n",
       "      47.59280260389223]]},\n",
       "   'temporal': {'interval': [['2016-01-12T17:06:27', '2020-12-28T17:07:32']]}},\n",
       "  'id': 'gamma0_sentinel_1_dv',\n",
       "  'links': [{'href': 'https://ceos.org/ard/files/PFS/SR/v5.0/CARD4L_Product_Family_Specification_Surface_Reflectance-v5.0.pdf',\n",
       "    'rel': 'card4l-document',\n",
       "    'type': 'application/pdf'},\n",
       "   {'href': 'https://sentinel.esa.int/documents/247904/2142675/Sentinel-1-masking-no-value-pixels-grd-products-note',\n",
       "    'rel': 'noise-removale'},\n",
       "   {'href': 'https://step.esa.int/main/doc/', 'rel': 'noise-removal'},\n",
       "   {'href': 'http://step.esa.int/docs/tutorials/S1TBX%20SAR%20Basics%20Tutorial.pdf',\n",
       "    'rel': 'radiometric-terrain-correction'},\n",
       "   {'href': 'https://openeo.eodc.eu/v1.0/collections/gamma0_sentinel_1_dv',\n",
       "    'rel': 'self'},\n",
       "   {'href': 'parent', 'rel': 'https://openeo.eodc.eu/v1.0/collections'},\n",
       "   {'href': 'root', 'rel': 'https://openeo.eodc.eu/v1.0/collections'},\n",
       "   {'href': 'https://openeo.eodc.eu/v1.0/collections/gamma0_sentinel_1_dv/items',\n",
       "    'rel': 'items'}],\n",
       "  'stac_version': '1.0.0-beta'}]"
      ]
     },
     "execution_count": 24,
     "metadata": {},
     "output_type": "execute_result"
    }
   ],
   "source": [
    "# list collections\n",
    "eodc_conn.list_collections()"
   ]
  },
  {
   "cell_type": "code",
   "execution_count": 25,
   "id": "dd81d99b-477a-42bf-9976-0f7ca8a5bb5b",
   "metadata": {},
   "outputs": [
    {
     "name": "stdout",
     "output_type": "stream",
     "text": [
      "Area Of Interest: \n",
      "west 10.92691 \n",
      "east 10.92717 \n",
      "south 45.846871 \n",
      "north 45.847058\n"
     ]
    }
   ],
   "source": [
    "# spatial subset\n",
    "west  = 10.92691 \n",
    "east  = 10.92717\n",
    "south = 45.846871 \n",
    "north = 45.847058\n",
    "bbox = [west,south,east,north]\n",
    "print('Area Of Interest:','\\nwest',bbox[0],'\\neast',bbox[2],'\\nsouth',bbox[1],'\\nnorth',bbox[3])"
   ]
  },
  {
   "cell_type": "code",
   "execution_count": 27,
   "id": "12626199-59d5-4766-855a-e122c19aefb3",
   "metadata": {},
   "outputs": [
    {
     "ename": "OpenEoApiError",
     "evalue": "[401] 401: Basic auth token is expired.",
     "output_type": "error",
     "traceback": [
      "\u001b[0;31m---------------------------------------------------------------------------\u001b[0m",
      "\u001b[0;31mOpenEoApiError\u001b[0m                            Traceback (most recent call last)",
      "\u001b[0;32m<ipython-input-27-c8b2fe6870cf>\u001b[0m in \u001b[0;36m<module>\u001b[0;34m\u001b[0m\n\u001b[1;32m      5\u001b[0m \u001b[0mbands\u001b[0m           \u001b[0;34m=\u001b[0m \u001b[0;34m[\u001b[0m\u001b[0;34m\"band_4\"\u001b[0m\u001b[0;34m,\u001b[0m\u001b[0;34m\"band_8\"\u001b[0m\u001b[0;34m]\u001b[0m\u001b[0;34m\u001b[0m\u001b[0;34m\u001b[0m\u001b[0m\n\u001b[1;32m      6\u001b[0m \u001b[0;34m\u001b[0m\u001b[0m\n\u001b[0;32m----> 7\u001b[0;31m \u001b[0ms2_l2a_eodc\u001b[0m \u001b[0;34m=\u001b[0m \u001b[0meodc_conn\u001b[0m\u001b[0;34m.\u001b[0m\u001b[0mload_collection\u001b[0m\u001b[0;34m(\u001b[0m\u001b[0mcollection\u001b[0m\u001b[0;34m,\u001b[0m\u001b[0mspatial_extent\u001b[0m\u001b[0;34m=\u001b[0m\u001b[0mspatial_extent\u001b[0m\u001b[0;34m,\u001b[0m\u001b[0mbands\u001b[0m\u001b[0;34m=\u001b[0m\u001b[0mbands\u001b[0m\u001b[0;34m,\u001b[0m\u001b[0mtemporal_extent\u001b[0m\u001b[0;34m=\u001b[0m\u001b[0mtemporal_extent\u001b[0m\u001b[0;34m)\u001b[0m\u001b[0;34m\u001b[0m\u001b[0;34m\u001b[0m\u001b[0m\n\u001b[0m\u001b[1;32m      8\u001b[0m \u001b[0ml2a_force\u001b[0m \u001b[0;34m=\u001b[0m \u001b[0ms2_l2a_eodc\u001b[0m\u001b[0;34m.\u001b[0m\u001b[0msave_result\u001b[0m\u001b[0;34m(\u001b[0m\u001b[0mformat\u001b[0m\u001b[0;34m=\u001b[0m\u001b[0;34m\"netCDF\"\u001b[0m\u001b[0;34m)\u001b[0m\u001b[0;34m\u001b[0m\u001b[0;34m\u001b[0m\u001b[0m\n\u001b[1;32m      9\u001b[0m \u001b[0;34m\u001b[0m\u001b[0m\n",
      "\u001b[0;32m~/.conda/envs/eurac_env/lib/python3.7/site-packages/openeo/rest/connection.py\u001b[0m in \u001b[0;36mload_collection\u001b[0;34m(self, collection_id, spatial_extent, temporal_extent, bands, properties)\u001b[0m\n\u001b[1;32m    781\u001b[0m             return DataCube.load_collection(\n\u001b[1;32m    782\u001b[0m                 \u001b[0mcollection_id\u001b[0m\u001b[0;34m=\u001b[0m\u001b[0mcollection_id\u001b[0m\u001b[0;34m,\u001b[0m \u001b[0mconnection\u001b[0m\u001b[0;34m=\u001b[0m\u001b[0mself\u001b[0m\u001b[0;34m,\u001b[0m\u001b[0;34m\u001b[0m\u001b[0;34m\u001b[0m\u001b[0m\n\u001b[0;32m--> 783\u001b[0;31m                 \u001b[0mspatial_extent\u001b[0m\u001b[0;34m=\u001b[0m\u001b[0mspatial_extent\u001b[0m\u001b[0;34m,\u001b[0m \u001b[0mtemporal_extent\u001b[0m\u001b[0;34m=\u001b[0m\u001b[0mtemporal_extent\u001b[0m\u001b[0;34m,\u001b[0m \u001b[0mbands\u001b[0m\u001b[0;34m=\u001b[0m\u001b[0mbands\u001b[0m\u001b[0;34m,\u001b[0m \u001b[0mproperties\u001b[0m\u001b[0;34m=\u001b[0m\u001b[0mproperties\u001b[0m\u001b[0;34m\u001b[0m\u001b[0;34m\u001b[0m\u001b[0m\n\u001b[0m\u001b[1;32m    784\u001b[0m             )\n\u001b[1;32m    785\u001b[0m         \u001b[0;32melse\u001b[0m\u001b[0;34m:\u001b[0m\u001b[0;34m\u001b[0m\u001b[0;34m\u001b[0m\u001b[0m\n",
      "\u001b[0;32m~/.conda/envs/eurac_env/lib/python3.7/site-packages/openeo/rest/datacube.py\u001b[0m in \u001b[0;36mload_collection\u001b[0;34m(cls, collection_id, connection, spatial_extent, temporal_extent, bands, fetch_metadata, properties)\u001b[0m\n\u001b[1;32m    167\u001b[0m         \u001b[0;32mif\u001b[0m \u001b[0misinstance\u001b[0m\u001b[0;34m(\u001b[0m\u001b[0mcollection_id\u001b[0m\u001b[0;34m,\u001b[0m \u001b[0mParameter\u001b[0m\u001b[0;34m)\u001b[0m\u001b[0;34m:\u001b[0m\u001b[0;34m\u001b[0m\u001b[0;34m\u001b[0m\u001b[0m\n\u001b[1;32m    168\u001b[0m             \u001b[0mfetch_metadata\u001b[0m \u001b[0;34m=\u001b[0m \u001b[0;32mFalse\u001b[0m\u001b[0;34m\u001b[0m\u001b[0;34m\u001b[0m\u001b[0m\n\u001b[0;32m--> 169\u001b[0;31m         \u001b[0mmetadata\u001b[0m \u001b[0;34m=\u001b[0m \u001b[0mconnection\u001b[0m\u001b[0;34m.\u001b[0m\u001b[0mcollection_metadata\u001b[0m\u001b[0;34m(\u001b[0m\u001b[0mcollection_id\u001b[0m\u001b[0;34m)\u001b[0m \u001b[0;32mif\u001b[0m \u001b[0mfetch_metadata\u001b[0m \u001b[0;32melse\u001b[0m \u001b[0;32mNone\u001b[0m\u001b[0;34m\u001b[0m\u001b[0;34m\u001b[0m\u001b[0m\n\u001b[0m\u001b[1;32m    170\u001b[0m         \u001b[0;32mif\u001b[0m \u001b[0mbands\u001b[0m\u001b[0;34m:\u001b[0m\u001b[0;34m\u001b[0m\u001b[0;34m\u001b[0m\u001b[0m\n\u001b[1;32m    171\u001b[0m             \u001b[0;32mif\u001b[0m \u001b[0misinstance\u001b[0m\u001b[0;34m(\u001b[0m\u001b[0mbands\u001b[0m\u001b[0;34m,\u001b[0m \u001b[0mstr\u001b[0m\u001b[0;34m)\u001b[0m\u001b[0;34m:\u001b[0m\u001b[0;34m\u001b[0m\u001b[0;34m\u001b[0m\u001b[0m\n",
      "\u001b[0;32m~/.conda/envs/eurac_env/lib/python3.7/site-packages/openeo/rest/connection.py\u001b[0m in \u001b[0;36mcollection_metadata\u001b[0;34m(self, name)\u001b[0m\n\u001b[1;32m    671\u001b[0m \u001b[0;34m\u001b[0m\u001b[0m\n\u001b[1;32m    672\u001b[0m     \u001b[0;32mdef\u001b[0m \u001b[0mcollection_metadata\u001b[0m\u001b[0;34m(\u001b[0m\u001b[0mself\u001b[0m\u001b[0;34m,\u001b[0m \u001b[0mname\u001b[0m\u001b[0;34m)\u001b[0m \u001b[0;34m->\u001b[0m \u001b[0mCollectionMetadata\u001b[0m\u001b[0;34m:\u001b[0m\u001b[0;34m\u001b[0m\u001b[0;34m\u001b[0m\u001b[0m\n\u001b[0;32m--> 673\u001b[0;31m         \u001b[0;32mreturn\u001b[0m \u001b[0mCollectionMetadata\u001b[0m\u001b[0;34m(\u001b[0m\u001b[0mmetadata\u001b[0m\u001b[0;34m=\u001b[0m\u001b[0mself\u001b[0m\u001b[0;34m.\u001b[0m\u001b[0mdescribe_collection\u001b[0m\u001b[0;34m(\u001b[0m\u001b[0mname\u001b[0m\u001b[0;34m)\u001b[0m\u001b[0;34m)\u001b[0m\u001b[0;34m\u001b[0m\u001b[0;34m\u001b[0m\u001b[0m\n\u001b[0m\u001b[1;32m    674\u001b[0m \u001b[0;34m\u001b[0m\u001b[0m\n\u001b[1;32m    675\u001b[0m     \u001b[0;32mdef\u001b[0m \u001b[0mlist_processes\u001b[0m\u001b[0;34m(\u001b[0m\u001b[0mself\u001b[0m\u001b[0;34m)\u001b[0m \u001b[0;34m->\u001b[0m \u001b[0mList\u001b[0m\u001b[0;34m[\u001b[0m\u001b[0mdict\u001b[0m\u001b[0;34m]\u001b[0m\u001b[0;34m:\u001b[0m\u001b[0;34m\u001b[0m\u001b[0;34m\u001b[0m\u001b[0m\n",
      "\u001b[0;32m~/.conda/envs/eurac_env/lib/python3.7/site-packages/openeo/rest/connection.py\u001b[0m in \u001b[0;36mdescribe_collection\u001b[0;34m(self, name)\u001b[0m\n\u001b[1;32m    635\u001b[0m         \u001b[0;34m:\u001b[0m\u001b[0;32mreturn\u001b[0m\u001b[0;34m:\u001b[0m \u001b[0mdata_dict\u001b[0m\u001b[0;34m:\u001b[0m \u001b[0mDict\u001b[0m \u001b[0mDetailed\u001b[0m \u001b[0minformation\u001b[0m \u001b[0mabout\u001b[0m \u001b[0mthe\u001b[0m \u001b[0mcollection\u001b[0m\u001b[0;34m\u001b[0m\u001b[0;34m\u001b[0m\u001b[0m\n\u001b[1;32m    636\u001b[0m         \"\"\"\n\u001b[0;32m--> 637\u001b[0;31m         \u001b[0mdata\u001b[0m \u001b[0;34m=\u001b[0m \u001b[0mself\u001b[0m\u001b[0;34m.\u001b[0m\u001b[0mget\u001b[0m\u001b[0;34m(\u001b[0m\u001b[0;34m'/collections/{}'\u001b[0m\u001b[0;34m.\u001b[0m\u001b[0mformat\u001b[0m\u001b[0;34m(\u001b[0m\u001b[0mname\u001b[0m\u001b[0;34m)\u001b[0m\u001b[0;34m)\u001b[0m\u001b[0;34m.\u001b[0m\u001b[0mjson\u001b[0m\u001b[0;34m(\u001b[0m\u001b[0;34m)\u001b[0m\u001b[0;34m\u001b[0m\u001b[0;34m\u001b[0m\u001b[0m\n\u001b[0m\u001b[1;32m    638\u001b[0m         \u001b[0;32mreturn\u001b[0m \u001b[0mVisualDict\u001b[0m\u001b[0;34m(\u001b[0m\u001b[0;34m\"collection\"\u001b[0m\u001b[0;34m,\u001b[0m \u001b[0mdata\u001b[0m \u001b[0;34m=\u001b[0m \u001b[0mdata\u001b[0m\u001b[0;34m)\u001b[0m\u001b[0;34m\u001b[0m\u001b[0;34m\u001b[0m\u001b[0m\n\u001b[1;32m    639\u001b[0m \u001b[0;34m\u001b[0m\u001b[0m\n",
      "\u001b[0;32m~/.conda/envs/eurac_env/lib/python3.7/site-packages/openeo/rest/connection.py\u001b[0m in \u001b[0;36mget\u001b[0;34m(self, path, stream, auth, **kwargs)\u001b[0m\n\u001b[1;32m    145\u001b[0m         \u001b[0;34m:\u001b[0m\u001b[0;32mreturn\u001b[0m\u001b[0;34m:\u001b[0m \u001b[0mresponse\u001b[0m\u001b[0;34m:\u001b[0m \u001b[0mResponse\u001b[0m\u001b[0;34m\u001b[0m\u001b[0;34m\u001b[0m\u001b[0m\n\u001b[1;32m    146\u001b[0m         \"\"\"\n\u001b[0;32m--> 147\u001b[0;31m         \u001b[0;32mreturn\u001b[0m \u001b[0mself\u001b[0m\u001b[0;34m.\u001b[0m\u001b[0mrequest\u001b[0m\u001b[0;34m(\u001b[0m\u001b[0;34m\"get\"\u001b[0m\u001b[0;34m,\u001b[0m \u001b[0mpath\u001b[0m\u001b[0;34m=\u001b[0m\u001b[0mpath\u001b[0m\u001b[0;34m,\u001b[0m \u001b[0mstream\u001b[0m\u001b[0;34m=\u001b[0m\u001b[0mstream\u001b[0m\u001b[0;34m,\u001b[0m \u001b[0mauth\u001b[0m\u001b[0;34m=\u001b[0m\u001b[0mauth\u001b[0m\u001b[0;34m,\u001b[0m \u001b[0;34m**\u001b[0m\u001b[0mkwargs\u001b[0m\u001b[0;34m)\u001b[0m\u001b[0;34m\u001b[0m\u001b[0;34m\u001b[0m\u001b[0m\n\u001b[0m\u001b[1;32m    148\u001b[0m \u001b[0;34m\u001b[0m\u001b[0m\n\u001b[1;32m    149\u001b[0m     \u001b[0;32mdef\u001b[0m \u001b[0mpost\u001b[0m\u001b[0;34m(\u001b[0m\u001b[0mself\u001b[0m\u001b[0;34m,\u001b[0m \u001b[0mpath\u001b[0m\u001b[0;34m,\u001b[0m \u001b[0mjson\u001b[0m\u001b[0;34m:\u001b[0m \u001b[0mdict\u001b[0m \u001b[0;34m=\u001b[0m \u001b[0;32mNone\u001b[0m\u001b[0;34m,\u001b[0m \u001b[0;34m**\u001b[0m\u001b[0mkwargs\u001b[0m\u001b[0;34m)\u001b[0m \u001b[0;34m->\u001b[0m \u001b[0mResponse\u001b[0m\u001b[0;34m:\u001b[0m\u001b[0;34m\u001b[0m\u001b[0;34m\u001b[0m\u001b[0m\n",
      "\u001b[0;32m~/.conda/envs/eurac_env/lib/python3.7/site-packages/openeo/rest/connection.py\u001b[0m in \u001b[0;36mrequest\u001b[0;34m(self, method, path, headers, auth, check_error, expected_status, **kwargs)\u001b[0m\n\u001b[1;32m    103\u001b[0m         \u001b[0mexpected_status\u001b[0m \u001b[0;34m=\u001b[0m \u001b[0mensure_list\u001b[0m\u001b[0;34m(\u001b[0m\u001b[0mexpected_status\u001b[0m\u001b[0;34m)\u001b[0m \u001b[0;32mif\u001b[0m \u001b[0mexpected_status\u001b[0m \u001b[0;32melse\u001b[0m \u001b[0;34m[\u001b[0m\u001b[0;34m]\u001b[0m\u001b[0;34m\u001b[0m\u001b[0;34m\u001b[0m\u001b[0m\n\u001b[1;32m    104\u001b[0m         \u001b[0;32mif\u001b[0m \u001b[0mcheck_error\u001b[0m \u001b[0;32mand\u001b[0m \u001b[0mstatus\u001b[0m \u001b[0;34m>=\u001b[0m \u001b[0;36m400\u001b[0m \u001b[0;32mand\u001b[0m \u001b[0mstatus\u001b[0m \u001b[0;32mnot\u001b[0m \u001b[0;32min\u001b[0m \u001b[0mexpected_status\u001b[0m\u001b[0;34m:\u001b[0m\u001b[0;34m\u001b[0m\u001b[0;34m\u001b[0m\u001b[0m\n\u001b[0;32m--> 105\u001b[0;31m             \u001b[0mself\u001b[0m\u001b[0;34m.\u001b[0m\u001b[0m_raise_api_error\u001b[0m\u001b[0;34m(\u001b[0m\u001b[0mresp\u001b[0m\u001b[0;34m)\u001b[0m\u001b[0;34m\u001b[0m\u001b[0;34m\u001b[0m\u001b[0m\n\u001b[0m\u001b[1;32m    106\u001b[0m         \u001b[0;32mif\u001b[0m \u001b[0mexpected_status\u001b[0m \u001b[0;32mand\u001b[0m \u001b[0mstatus\u001b[0m \u001b[0;32mnot\u001b[0m \u001b[0;32min\u001b[0m \u001b[0mexpected_status\u001b[0m\u001b[0;34m:\u001b[0m\u001b[0;34m\u001b[0m\u001b[0;34m\u001b[0m\u001b[0m\n\u001b[1;32m    107\u001b[0m             raise OpenEoClientException(\"Got status code {s!r} for `{m} {p}` (expected {e!r})\".format(\n",
      "\u001b[0;32m~/.conda/envs/eurac_env/lib/python3.7/site-packages/openeo/rest/connection.py\u001b[0m in \u001b[0;36m_raise_api_error\u001b[0;34m(self, response)\u001b[0m\n\u001b[1;32m    134\u001b[0m             \u001b[0;32melse\u001b[0m\u001b[0;34m:\u001b[0m\u001b[0;34m\u001b[0m\u001b[0;34m\u001b[0m\u001b[0m\n\u001b[1;32m    135\u001b[0m                 \u001b[0mexception\u001b[0m \u001b[0;34m=\u001b[0m \u001b[0mOpenEoApiError\u001b[0m\u001b[0;34m(\u001b[0m\u001b[0mhttp_status_code\u001b[0m\u001b[0;34m=\u001b[0m\u001b[0mstatus_code\u001b[0m\u001b[0;34m,\u001b[0m \u001b[0mmessage\u001b[0m\u001b[0;34m=\u001b[0m\u001b[0mtext\u001b[0m\u001b[0;34m)\u001b[0m\u001b[0;34m\u001b[0m\u001b[0;34m\u001b[0m\u001b[0m\n\u001b[0;32m--> 136\u001b[0;31m         \u001b[0;32mraise\u001b[0m \u001b[0mexception\u001b[0m\u001b[0;34m\u001b[0m\u001b[0;34m\u001b[0m\u001b[0m\n\u001b[0m\u001b[1;32m    137\u001b[0m \u001b[0;34m\u001b[0m\u001b[0m\n\u001b[1;32m    138\u001b[0m     \u001b[0;32mdef\u001b[0m \u001b[0mget\u001b[0m\u001b[0;34m(\u001b[0m\u001b[0mself\u001b[0m\u001b[0;34m,\u001b[0m \u001b[0mpath\u001b[0m\u001b[0;34m,\u001b[0m \u001b[0mstream\u001b[0m\u001b[0;34m=\u001b[0m\u001b[0;32mFalse\u001b[0m\u001b[0;34m,\u001b[0m \u001b[0mauth\u001b[0m\u001b[0;34m:\u001b[0m \u001b[0mAuthBase\u001b[0m \u001b[0;34m=\u001b[0m \u001b[0;32mNone\u001b[0m\u001b[0;34m,\u001b[0m \u001b[0;34m**\u001b[0m\u001b[0mkwargs\u001b[0m\u001b[0;34m)\u001b[0m \u001b[0;34m->\u001b[0m \u001b[0mResponse\u001b[0m\u001b[0;34m:\u001b[0m\u001b[0;34m\u001b[0m\u001b[0;34m\u001b[0m\u001b[0m\n",
      "\u001b[0;31mOpenEoApiError\u001b[0m: [401] 401: Basic auth token is expired."
     ]
    }
   ],
   "source": [
    "# define process graph\n",
    "collection      = 'boa_sentinel_2'\n",
    "spatial_extent  = {'west':bbox[0],'east':bbox[2],'south':bbox[1],'north':bbox[3]}\n",
    "temporal_extent = [\"2016-06-01\", \"2017-06-01\"]\n",
    "bands           = [\"band_4\",\"band_8\"]\n",
    "\n",
    "s2_l2a_eodc = eodc_conn.load_collection(collection,spatial_extent=spatial_extent,bands=bands,temporal_extent=temporal_extent)\n",
    "l2a_force = s2_l2a_eodc.save_result(format=\"netCDF\")\n",
    "\n",
    "#ndvi = s2_l2a_eodc.reduce_dimension(dimension=\"bands\",reducer = lambda value: (array_element(value,1)-array_element(value,0))/(array_element(value,1)+array_element(value,0)))\n",
    "#l2a_force = ndvi.save_result(format=\"netCDF\")\n",
    "\n",
    "#l2a_force.to_graphviz()\n",
    "l2a_force\n"
   ]
  },
  {
   "cell_type": "code",
   "execution_count": 34,
   "id": "19999039-2a1d-4050-834b-22fc099b20d5",
   "metadata": {},
   "outputs": [
    {
     "name": "stdout",
     "output_type": "stream",
     "text": [
      "{\n",
      "  \"loadcollection1\": {\n",
      "    \"process_id\": \"load_collection\",\n",
      "    \"arguments\": {\n",
      "      \"bands\": [\n",
      "        \"band_4\",\n",
      "        \"band_8\"\n",
      "      ],\n",
      "      \"id\": \"boa_sentinel_2\",\n",
      "      \"spatial_extent\": {\n",
      "        \"west\": 10.92691,\n",
      "        \"east\": 10.92717,\n",
      "        \"south\": 45.846871,\n",
      "        \"north\": 45.847058\n",
      "      },\n",
      "      \"temporal_extent\": [\n",
      "        \"2016-06-01\",\n",
      "        \"2017-06-01\"\n",
      "      ]\n",
      "    }\n",
      "  },\n",
      "  \"saveresult1\": {\n",
      "    \"process_id\": \"save_result\",\n",
      "    \"arguments\": {\n",
      "      \"data\": {\n",
      "        \"from_node\": \"loadcollection1\"\n",
      "      },\n",
      "      \"format\": \"netCDF\",\n",
      "      \"options\": {}\n",
      "    },\n",
      "    \"result\": true\n",
      "  }\n",
      "}\n"
     ]
    }
   ],
   "source": [
    "import json\n",
    "print(json.dumps(l2a_force.graph,indent=2))"
   ]
  },
  {
   "cell_type": "code",
   "execution_count": 11,
   "id": "c541388e-0bbf-46e3-98f3-e8ddcac4fff1",
   "metadata": {},
   "outputs": [
    {
     "name": "stdout",
     "output_type": "stream",
     "text": [
      "Batch job created with id:  <RESTJob job_id='jb-569c04ea-6990-4455-a4cb-3cfc58e88789'>\n"
     ]
    }
   ],
   "source": [
    "# create job\n",
    "job_eodc_s2 = eodc_conn.create_job(l2a_force.graph)\n",
    "job_id_eodc_s2 = job_eodc_s2.job_id\n",
    "if job_id_eodc_s2:\n",
    "    print(\"Batch job created with id: \",job_eodc_s2)\n",
    "    job_eodc_s2.start_job()\n",
    "else:\n",
    "    print(\"Error! Job ID is None\")"
   ]
  },
  {
   "cell_type": "code",
   "execution_count": 14,
   "id": "02d19207-99e5-48f5-a7c4-e0cfcdc171b7",
   "metadata": {},
   "outputs": [
    {
     "name": "stdout",
     "output_type": "stream",
     "text": [
      "Batch job with id:  jb-569c04ea-6990-4455-a4cb-3cfc58e88789  is  finished\n"
     ]
    }
   ],
   "source": [
    "# check status of job\n",
    "eodc_conn = openeo.connect(\"https://openeo.eodc.eu/v1.0\").authenticate_basic(\"openeo-user\", \"openeo-56XA!\")\n",
    "job_eodc_s2 = eodc_conn.job(job_id_eodc_s2)\n",
    "job_description = job_eodc_s2.describe_job()\n",
    "print(\"Batch job with id: \",job_id_eodc_s2, ' is ',job_description['status'])"
   ]
  },
  {
   "cell_type": "code",
   "execution_count": 15,
   "id": "85a8443f-a981-4ece-8a80-31130226f15a",
   "metadata": {},
   "outputs": [
    {
     "data": {
      "text/plain": [
       "PosixPath('s2_eodc_force_timeseries.nc')"
      ]
     },
     "execution_count": 15,
     "metadata": {},
     "output_type": "execute_result"
    }
   ],
   "source": [
    "# download result\n",
    "results_eodc = job_eodc_s2.get_results()\n",
    "results_eodc.download_file(\"./s2_eodc_force_timeseries.nc\")"
   ]
  },
  {
   "cell_type": "code",
   "execution_count": null,
   "id": "dd8753c0-db3f-4a0c-838e-704f56bdcf5f",
   "metadata": {},
   "outputs": [],
   "source": []
  }
 ],
 "metadata": {
  "kernelspec": {
   "display_name": "Python 3",
   "language": "python",
   "name": "python3"
  },
  "language_info": {
   "codemirror_mode": {
    "name": "ipython",
    "version": 3
   },
   "file_extension": ".py",
   "mimetype": "text/x-python",
   "name": "python",
   "nbconvert_exporter": "python",
   "pygments_lexer": "ipython3",
   "version": "3.7.10"
  }
 },
 "nbformat": 4,
 "nbformat_minor": 5
}
